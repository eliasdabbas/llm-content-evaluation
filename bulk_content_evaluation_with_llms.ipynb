{
 "cells": [
  {
   "cell_type": "code",
   "execution_count": 1,
   "id": "3d5317af-8754-4118-bbd6-f31e5a08beb6",
   "metadata": {
    "execution": {
     "iopub.execute_input": "2024-06-21T21:01:27.092447Z",
     "iopub.status.busy": "2024-06-21T21:01:27.092085Z",
     "iopub.status.idle": "2024-06-21T21:01:28.839896Z",
     "shell.execute_reply": "2024-06-21T21:01:28.839426Z",
     "shell.execute_reply.started": "2024-06-21T21:01:27.092414Z"
    }
   },
   "outputs": [],
   "source": [
    "import os\n",
    "import json\n",
    "import advertools as adv\n",
    "import pandas as pd\n",
    "from openai import OpenAI\n",
    "client = OpenAI(api_key=os.environ['OPENAI_API_KEY'])"
   ]
  },
  {
   "cell_type": "code",
   "execution_count": 2,
   "id": "d2583dd4-dc1d-4894-9520-7eb666318d02",
   "metadata": {
    "execution": {
     "iopub.execute_input": "2024-06-21T21:01:39.358368Z",
     "iopub.status.busy": "2024-06-21T21:01:39.358093Z",
     "iopub.status.idle": "2024-06-21T21:01:41.248784Z",
     "shell.execute_reply": "2024-06-21T21:01:41.248186Z",
     "shell.execute_reply.started": "2024-06-21T21:01:39.358343Z"
    }
   },
   "outputs": [
    {
     "name": "stderr",
     "output_type": "stream",
     "text": [
      "2024-06-22 00:01:41,217 | INFO | sitemaps.py:563 | sitemap_to_df | Getting https://nbastats.pro/sitemap.xml\n"
     ]
    }
   ],
   "source": [
    "sitemap = adv.sitemap_to_df('https://nbastats.pro/robots.txt')"
   ]
  },
  {
   "cell_type": "code",
   "execution_count": 5,
   "id": "4b6d4ae9-9bb6-402d-a9b6-7c11c4ceecc6",
   "metadata": {
    "execution": {
     "iopub.execute_input": "2024-06-21T21:01:57.855932Z",
     "iopub.status.busy": "2024-06-21T21:01:57.855643Z",
     "iopub.status.idle": "2024-06-21T21:01:57.859179Z",
     "shell.execute_reply": "2024-06-21T21:01:57.858519Z",
     "shell.execute_reply.started": "2024-06-21T21:01:57.855905Z"
    }
   },
   "outputs": [],
   "source": [
    "url_list = sitemap['loc'].sample(50)"
   ]
  },
  {
   "cell_type": "markdown",
   "id": "c71918c8-ae3e-472c-a035-b18737e62681",
   "metadata": {},
   "source": [
    "https://developers.google.com/search/docs/fundamentals/creating-helpful-content"
   ]
  },
  {
   "cell_type": "code",
   "execution_count": 29,
   "id": "3180ae55-7722-47db-a05a-cfe694d39bc8",
   "metadata": {
    "execution": {
     "iopub.execute_input": "2024-06-21T21:50:08.482682Z",
     "iopub.status.busy": "2024-06-21T21:50:08.482354Z",
     "iopub.status.idle": "2024-06-21T21:50:08.491479Z",
     "shell.execute_reply": "2024-06-21T21:50:08.490728Z",
     "shell.execute_reply.started": "2024-06-21T21:50:08.482651Z"
    }
   },
   "outputs": [
    {
     "data": {
      "text/html": [
       "<div>\n",
       "<style scoped>\n",
       "    .dataframe tbody tr th:only-of-type {\n",
       "        vertical-align: middle;\n",
       "    }\n",
       "\n",
       "    .dataframe tbody tr th {\n",
       "        vertical-align: top;\n",
       "    }\n",
       "\n",
       "    .dataframe thead th {\n",
       "        text-align: right;\n",
       "    }\n",
       "</style>\n",
       "<table border=\"1\" class=\"dataframe\">\n",
       "  <thead>\n",
       "    <tr style=\"text-align: right;\">\n",
       "      <th></th>\n",
       "      <th>category</th>\n",
       "      <th>question</th>\n",
       "    </tr>\n",
       "  </thead>\n",
       "  <tbody>\n",
       "    <tr>\n",
       "      <th>0</th>\n",
       "      <td>Content and quality questions</td>\n",
       "      <td>Does the content provide original information,...</td>\n",
       "    </tr>\n",
       "    <tr>\n",
       "      <th>1</th>\n",
       "      <td>Content and quality questions</td>\n",
       "      <td>Does the content provide a substantial, comple...</td>\n",
       "    </tr>\n",
       "    <tr>\n",
       "      <th>2</th>\n",
       "      <td>Content and quality questions</td>\n",
       "      <td>Does the content provide insightful analysis o...</td>\n",
       "    </tr>\n",
       "    <tr>\n",
       "      <th>3</th>\n",
       "      <td>Content and quality questions</td>\n",
       "      <td>If the content draws on other sources, does it...</td>\n",
       "    </tr>\n",
       "    <tr>\n",
       "      <th>4</th>\n",
       "      <td>Content and quality questions</td>\n",
       "      <td>Does the main heading or page title provide a ...</td>\n",
       "    </tr>\n",
       "    <tr>\n",
       "      <th>5</th>\n",
       "      <td>Content and quality questions</td>\n",
       "      <td>Does the main heading or page title avoid exag...</td>\n",
       "    </tr>\n",
       "    <tr>\n",
       "      <th>6</th>\n",
       "      <td>Content and quality questions</td>\n",
       "      <td>Is this the sort of page you'd want to bookmar...</td>\n",
       "    </tr>\n",
       "    <tr>\n",
       "      <th>7</th>\n",
       "      <td>Content and quality questions</td>\n",
       "      <td>Would you expect to see this content in or ref...</td>\n",
       "    </tr>\n",
       "    <tr>\n",
       "      <th>8</th>\n",
       "      <td>Content and quality questions</td>\n",
       "      <td>Does the content provide substantial value whe...</td>\n",
       "    </tr>\n",
       "    <tr>\n",
       "      <th>9</th>\n",
       "      <td>Content and quality questions</td>\n",
       "      <td>Does the content have any spelling or stylisti...</td>\n",
       "    </tr>\n",
       "    <tr>\n",
       "      <th>10</th>\n",
       "      <td>Content and quality questions</td>\n",
       "      <td>Is the content produced well, or does it appea...</td>\n",
       "    </tr>\n",
       "    <tr>\n",
       "      <th>11</th>\n",
       "      <td>Content and quality questions</td>\n",
       "      <td>Is the content mass-produced by or outsourced ...</td>\n",
       "    </tr>\n",
       "  </tbody>\n",
       "</table>\n",
       "</div>"
      ],
      "text/plain": [
       "                         category  \\\n",
       "0   Content and quality questions   \n",
       "1   Content and quality questions   \n",
       "2   Content and quality questions   \n",
       "3   Content and quality questions   \n",
       "4   Content and quality questions   \n",
       "5   Content and quality questions   \n",
       "6   Content and quality questions   \n",
       "7   Content and quality questions   \n",
       "8   Content and quality questions   \n",
       "9   Content and quality questions   \n",
       "10  Content and quality questions   \n",
       "11  Content and quality questions   \n",
       "\n",
       "                                             question  \n",
       "0   Does the content provide original information,...  \n",
       "1   Does the content provide a substantial, comple...  \n",
       "2   Does the content provide insightful analysis o...  \n",
       "3   If the content draws on other sources, does it...  \n",
       "4   Does the main heading or page title provide a ...  \n",
       "5   Does the main heading or page title avoid exag...  \n",
       "6   Is this the sort of page you'd want to bookmar...  \n",
       "7   Would you expect to see this content in or ref...  \n",
       "8   Does the content provide substantial value whe...  \n",
       "9   Does the content have any spelling or stylisti...  \n",
       "10  Is the content produced well, or does it appea...  \n",
       "11  Is the content mass-produced by or outsourced ...  "
      ]
     },
     "execution_count": 29,
     "metadata": {},
     "output_type": "execute_result"
    }
   ],
   "source": [
    "content_guidelines = pd.read_csv('quality_guidelines.csv')\n",
    "content_guidelines.head(12)"
   ]
  },
  {
   "cell_type": "code",
   "execution_count": 32,
   "id": "3d73826c-2ed4-4c10-87f8-3b10a39d302f",
   "metadata": {
    "execution": {
     "iopub.execute_input": "2024-06-21T22:08:42.739524Z",
     "iopub.status.busy": "2024-06-21T22:08:42.739085Z",
     "iopub.status.idle": "2024-06-21T22:08:48.263267Z",
     "shell.execute_reply": "2024-06-21T22:08:48.262042Z",
     "shell.execute_reply.started": "2024-06-21T22:08:42.739489Z"
    }
   },
   "outputs": [],
   "source": [
    "adv.crawl(\n",
    "    url_list=url_list,\n",
    "    output_file='nbastats_crawl.jl',\n",
    "    custom_settings={\n",
    "        'LOG_FILE': 'nbastats_crawl.log',\n",
    "    },\n",
    "    xpath_selectors={\n",
    "        'player_description': '//div[@class=\"col-lg-10 col-md-9\"]/text() | //div//span[@id=\"more\"]/text()'\n",
    "    })"
   ]
  },
  {
   "cell_type": "code",
   "execution_count": 33,
   "id": "04eae2a8-526d-4b54-9c90-e8a6b14281d2",
   "metadata": {
    "execution": {
     "iopub.execute_input": "2024-06-21T22:11:21.318253Z",
     "iopub.status.busy": "2024-06-21T22:11:21.317961Z",
     "iopub.status.idle": "2024-06-21T22:11:21.350326Z",
     "shell.execute_reply": "2024-06-21T22:11:21.349472Z",
     "shell.execute_reply.started": "2024-06-21T22:11:21.318221Z"
    }
   },
   "outputs": [],
   "source": [
    "crawldf = pd.read_json('nbastats_crawl.jl', lines=True)"
   ]
  },
  {
   "cell_type": "code",
   "execution_count": 74,
   "id": "acafbb2f-d21b-42a3-bdd2-15da4f4e7470",
   "metadata": {
    "execution": {
     "iopub.execute_input": "2024-06-21T22:48:56.888381Z",
     "iopub.status.busy": "2024-06-21T22:48:56.888050Z",
     "iopub.status.idle": "2024-06-21T22:52:50.252294Z",
     "shell.execute_reply": "2024-06-21T22:52:50.251552Z",
     "shell.execute_reply.started": "2024-06-21T22:48:56.888350Z"
    }
   },
   "outputs": [
    {
     "name": "stdout",
     "output_type": "stream",
     "text": [
      "John Niemiera Stats: NBA Career\n"
     ]
    },
    {
     "name": "stderr",
     "output_type": "stream",
     "text": [
      "2024-06-22 01:49:00,804 | INFO | _client.py:1027 | _send_single_request | HTTP Request: POST https://api.openai.com/v1/chat/completions \"HTTP/1.1 200 OK\"\n"
     ]
    },
    {
     "name": "stdout",
     "output_type": "stream",
     "text": [
      "Maceo Baston Stats: NBA Career\n"
     ]
    },
    {
     "name": "stderr",
     "output_type": "stream",
     "text": [
      "2024-06-22 01:49:05,275 | INFO | _client.py:1027 | _send_single_request | HTTP Request: POST https://api.openai.com/v1/chat/completions \"HTTP/1.1 200 OK\"\n"
     ]
    },
    {
     "name": "stdout",
     "output_type": "stream",
     "text": [
      "Marko Jaric Stats: NBA Career\n"
     ]
    },
    {
     "name": "stderr",
     "output_type": "stream",
     "text": [
      "2024-06-22 01:49:09,920 | INFO | _client.py:1027 | _send_single_request | HTTP Request: POST https://api.openai.com/v1/chat/completions \"HTTP/1.1 200 OK\"\n"
     ]
    },
    {
     "name": "stdout",
     "output_type": "stream",
     "text": [
      "Elijah Hughes Stats: NBA Career\n"
     ]
    },
    {
     "name": "stderr",
     "output_type": "stream",
     "text": [
      "2024-06-22 01:49:20,212 | INFO | _client.py:1027 | _send_single_request | HTTP Request: POST https://api.openai.com/v1/chat/completions \"HTTP/1.1 200 OK\"\n"
     ]
    },
    {
     "name": "stdout",
     "output_type": "stream",
     "text": [
      "Lou Tsioropoulos Stats: NBA Career\n"
     ]
    },
    {
     "name": "stderr",
     "output_type": "stream",
     "text": [
      "2024-06-22 01:49:26,633 | INFO | _client.py:1027 | _send_single_request | HTTP Request: POST https://api.openai.com/v1/chat/completions \"HTTP/1.1 200 OK\"\n"
     ]
    },
    {
     "name": "stdout",
     "output_type": "stream",
     "text": [
      "Jeremy Sochan Stats: NBA Career\n"
     ]
    },
    {
     "name": "stderr",
     "output_type": "stream",
     "text": [
      "2024-06-22 01:49:32,912 | INFO | _client.py:1027 | _send_single_request | HTTP Request: POST https://api.openai.com/v1/chat/completions \"HTTP/1.1 200 OK\"\n"
     ]
    },
    {
     "name": "stdout",
     "output_type": "stream",
     "text": [
      "Zeke Sinicola Stats: NBA Career\n"
     ]
    },
    {
     "name": "stderr",
     "output_type": "stream",
     "text": [
      "2024-06-22 01:49:41,580 | INFO | _client.py:1027 | _send_single_request | HTTP Request: POST https://api.openai.com/v1/chat/completions \"HTTP/1.1 200 OK\"\n"
     ]
    },
    {
     "name": "stdout",
     "output_type": "stream",
     "text": [
      "Dan Kraus Stats: NBA Career\n"
     ]
    },
    {
     "name": "stderr",
     "output_type": "stream",
     "text": [
      "2024-06-22 01:49:46,188 | INFO | _client.py:1027 | _send_single_request | HTTP Request: POST https://api.openai.com/v1/chat/completions \"HTTP/1.1 200 OK\"\n"
     ]
    },
    {
     "name": "stdout",
     "output_type": "stream",
     "text": [
      "Glen Davis Stats: NBA Career\n"
     ]
    },
    {
     "name": "stderr",
     "output_type": "stream",
     "text": [
      "2024-06-22 01:49:51,103 | INFO | _client.py:1027 | _send_single_request | HTTP Request: POST https://api.openai.com/v1/chat/completions \"HTTP/1.1 200 OK\"\n"
     ]
    },
    {
     "name": "stdout",
     "output_type": "stream",
     "text": [
      "Rick Robey Stats: NBA Career\n"
     ]
    },
    {
     "name": "stderr",
     "output_type": "stream",
     "text": [
      "2024-06-22 01:49:55,315 | INFO | _client.py:1027 | _send_single_request | HTTP Request: POST https://api.openai.com/v1/chat/completions \"HTTP/1.1 200 OK\"\n"
     ]
    },
    {
     "name": "stdout",
     "output_type": "stream",
     "text": [
      "Rod Strickland Stats: NBA Career\n"
     ]
    },
    {
     "name": "stderr",
     "output_type": "stream",
     "text": [
      "2024-06-22 01:49:59,487 | INFO | _client.py:1027 | _send_single_request | HTTP Request: POST https://api.openai.com/v1/chat/completions \"HTTP/1.1 200 OK\"\n"
     ]
    },
    {
     "name": "stdout",
     "output_type": "stream",
     "text": [
      "Brian Oliver Stats: NBA Career\n"
     ]
    },
    {
     "name": "stderr",
     "output_type": "stream",
     "text": [
      "2024-06-22 01:50:04,270 | INFO | _client.py:1027 | _send_single_request | HTTP Request: POST https://api.openai.com/v1/chat/completions \"HTTP/1.1 200 OK\"\n"
     ]
    },
    {
     "name": "stdout",
     "output_type": "stream",
     "text": [
      "Corey Brewer Stats: NBA Career\n"
     ]
    },
    {
     "name": "stderr",
     "output_type": "stream",
     "text": [
      "2024-06-22 01:50:08,651 | INFO | _client.py:1027 | _send_single_request | HTTP Request: POST https://api.openai.com/v1/chat/completions \"HTTP/1.1 200 OK\"\n"
     ]
    },
    {
     "name": "stdout",
     "output_type": "stream",
     "text": [
      "Kirk Penney Stats: NBA Career\n"
     ]
    },
    {
     "name": "stderr",
     "output_type": "stream",
     "text": [
      "2024-06-22 01:50:13,236 | INFO | _client.py:1027 | _send_single_request | HTTP Request: POST https://api.openai.com/v1/chat/completions \"HTTP/1.1 200 OK\"\n"
     ]
    },
    {
     "name": "stdout",
     "output_type": "stream",
     "text": [
      "Russell Lee Stats: NBA Career\n"
     ]
    },
    {
     "name": "stderr",
     "output_type": "stream",
     "text": [
      "2024-06-22 01:50:18,407 | INFO | _client.py:1027 | _send_single_request | HTTP Request: POST https://api.openai.com/v1/chat/completions \"HTTP/1.1 200 OK\"\n"
     ]
    },
    {
     "name": "stdout",
     "output_type": "stream",
     "text": [
      "Johnny Taylor Stats: NBA Career\n"
     ]
    },
    {
     "name": "stderr",
     "output_type": "stream",
     "text": [
      "2024-06-22 01:50:23,233 | INFO | _client.py:1027 | _send_single_request | HTTP Request: POST https://api.openai.com/v1/chat/completions \"HTTP/1.1 200 OK\"\n"
     ]
    },
    {
     "name": "stdout",
     "output_type": "stream",
     "text": [
      "Jaren Jackson Jr. Stats: NBA Career\n"
     ]
    },
    {
     "name": "stderr",
     "output_type": "stream",
     "text": [
      "2024-06-22 01:50:28,065 | INFO | _client.py:1027 | _send_single_request | HTTP Request: POST https://api.openai.com/v1/chat/completions \"HTTP/1.1 200 OK\"\n"
     ]
    },
    {
     "name": "stdout",
     "output_type": "stream",
     "text": [
      "Larry Sanders Stats: NBA Career\n"
     ]
    },
    {
     "name": "stderr",
     "output_type": "stream",
     "text": [
      "2024-06-22 01:50:32,518 | INFO | _client.py:1027 | _send_single_request | HTTP Request: POST https://api.openai.com/v1/chat/completions \"HTTP/1.1 200 OK\"\n"
     ]
    },
    {
     "name": "stdout",
     "output_type": "stream",
     "text": [
      "Josh Hall Stats: NBA Career\n"
     ]
    },
    {
     "name": "stderr",
     "output_type": "stream",
     "text": [
      "2024-06-22 01:50:36,695 | INFO | _client.py:1027 | _send_single_request | HTTP Request: POST https://api.openai.com/v1/chat/completions \"HTTP/1.1 200 OK\"\n"
     ]
    },
    {
     "name": "stdout",
     "output_type": "stream",
     "text": [
      "Dallas Comegys Stats: NBA Career\n"
     ]
    },
    {
     "name": "stderr",
     "output_type": "stream",
     "text": [
      "2024-06-22 01:50:41,116 | INFO | _client.py:1027 | _send_single_request | HTTP Request: POST https://api.openai.com/v1/chat/completions \"HTTP/1.1 200 OK\"\n"
     ]
    },
    {
     "name": "stdout",
     "output_type": "stream",
     "text": [
      "Ken Murray Stats: NBA Career\n"
     ]
    },
    {
     "name": "stderr",
     "output_type": "stream",
     "text": [
      "2024-06-22 01:50:45,079 | INFO | _client.py:1027 | _send_single_request | HTTP Request: POST https://api.openai.com/v1/chat/completions \"HTTP/1.1 200 OK\"\n"
     ]
    },
    {
     "name": "stdout",
     "output_type": "stream",
     "text": [
      "Trevor Wilson Stats: NBA Career\n"
     ]
    },
    {
     "name": "stderr",
     "output_type": "stream",
     "text": [
      "2024-06-22 01:50:49,616 | INFO | _client.py:1027 | _send_single_request | HTTP Request: POST https://api.openai.com/v1/chat/completions \"HTTP/1.1 200 OK\"\n"
     ]
    },
    {
     "name": "stdout",
     "output_type": "stream",
     "text": [
      "Scott Haffner Stats: NBA Career\n"
     ]
    },
    {
     "name": "stderr",
     "output_type": "stream",
     "text": [
      "2024-06-22 01:50:54,270 | INFO | _client.py:1027 | _send_single_request | HTTP Request: POST https://api.openai.com/v1/chat/completions \"HTTP/1.1 200 OK\"\n"
     ]
    },
    {
     "name": "stdout",
     "output_type": "stream",
     "text": [
      "Noel Felix Stats: NBA Career\n"
     ]
    },
    {
     "name": "stderr",
     "output_type": "stream",
     "text": [
      "2024-06-22 01:50:58,097 | INFO | _client.py:1027 | _send_single_request | HTTP Request: POST https://api.openai.com/v1/chat/completions \"HTTP/1.1 200 OK\"\n"
     ]
    },
    {
     "name": "stdout",
     "output_type": "stream",
     "text": [
      "Blaine Denning Stats: NBA Career\n"
     ]
    },
    {
     "name": "stderr",
     "output_type": "stream",
     "text": [
      "2024-06-22 01:51:06,135 | INFO | _client.py:1027 | _send_single_request | HTTP Request: POST https://api.openai.com/v1/chat/completions \"HTTP/1.1 200 OK\"\n"
     ]
    },
    {
     "name": "stdout",
     "output_type": "stream",
     "text": [
      "Dick Wehr Stats: NBA Career\n"
     ]
    },
    {
     "name": "stderr",
     "output_type": "stream",
     "text": [
      "2024-06-22 01:51:09,874 | INFO | _client.py:1027 | _send_single_request | HTTP Request: POST https://api.openai.com/v1/chat/completions \"HTTP/1.1 200 OK\"\n"
     ]
    },
    {
     "name": "stdout",
     "output_type": "stream",
     "text": [
      "Mike Higgins Stats: NBA Career\n"
     ]
    },
    {
     "name": "stderr",
     "output_type": "stream",
     "text": [
      "2024-06-22 01:51:13,764 | INFO | _client.py:1027 | _send_single_request | HTTP Request: POST https://api.openai.com/v1/chat/completions \"HTTP/1.1 200 OK\"\n"
     ]
    },
    {
     "name": "stdout",
     "output_type": "stream",
     "text": [
      "Julius Nwosu Stats: NBA Career\n"
     ]
    },
    {
     "name": "stderr",
     "output_type": "stream",
     "text": [
      "2024-06-22 01:51:18,077 | INFO | _client.py:1027 | _send_single_request | HTTP Request: POST https://api.openai.com/v1/chat/completions \"HTTP/1.1 200 OK\"\n"
     ]
    },
    {
     "name": "stdout",
     "output_type": "stream",
     "text": [
      "John Battle Stats: NBA Career\n"
     ]
    },
    {
     "name": "stderr",
     "output_type": "stream",
     "text": [
      "2024-06-22 01:51:22,434 | INFO | _client.py:1027 | _send_single_request | HTTP Request: POST https://api.openai.com/v1/chat/completions \"HTTP/1.1 200 OK\"\n"
     ]
    },
    {
     "name": "stdout",
     "output_type": "stream",
     "text": [
      "Marvin Webster Stats: NBA Career\n"
     ]
    },
    {
     "name": "stderr",
     "output_type": "stream",
     "text": [
      "2024-06-22 01:51:26,764 | INFO | _client.py:1027 | _send_single_request | HTTP Request: POST https://api.openai.com/v1/chat/completions \"HTTP/1.1 200 OK\"\n"
     ]
    },
    {
     "name": "stdout",
     "output_type": "stream",
     "text": [
      "Matt Mooney Stats: NBA Career\n"
     ]
    },
    {
     "name": "stderr",
     "output_type": "stream",
     "text": [
      "2024-06-22 01:51:32,630 | INFO | _client.py:1027 | _send_single_request | HTTP Request: POST https://api.openai.com/v1/chat/completions \"HTTP/1.1 200 OK\"\n"
     ]
    },
    {
     "name": "stdout",
     "output_type": "stream",
     "text": [
      "Dick Murphy Stats: NBA Career\n"
     ]
    },
    {
     "name": "stderr",
     "output_type": "stream",
     "text": [
      "2024-06-22 01:51:36,582 | INFO | _client.py:1027 | _send_single_request | HTTP Request: POST https://api.openai.com/v1/chat/completions \"HTTP/1.1 200 OK\"\n"
     ]
    },
    {
     "name": "stdout",
     "output_type": "stream",
     "text": [
      "Howard Nathan Stats: NBA Career\n"
     ]
    },
    {
     "name": "stderr",
     "output_type": "stream",
     "text": [
      "2024-06-22 01:51:40,738 | INFO | _client.py:1027 | _send_single_request | HTTP Request: POST https://api.openai.com/v1/chat/completions \"HTTP/1.1 200 OK\"\n"
     ]
    },
    {
     "name": "stdout",
     "output_type": "stream",
     "text": [
      "Raymond Felton Stats: NBA Career\n"
     ]
    },
    {
     "name": "stderr",
     "output_type": "stream",
     "text": [
      "2024-06-22 01:51:44,458 | INFO | _client.py:1027 | _send_single_request | HTTP Request: POST https://api.openai.com/v1/chat/completions \"HTTP/1.1 200 OK\"\n"
     ]
    },
    {
     "name": "stdout",
     "output_type": "stream",
     "text": [
      "Herschel Baltimore Stats: NBA Career\n"
     ]
    },
    {
     "name": "stderr",
     "output_type": "stream",
     "text": [
      "2024-06-22 01:51:49,324 | INFO | _client.py:1027 | _send_single_request | HTTP Request: POST https://api.openai.com/v1/chat/completions \"HTTP/1.1 200 OK\"\n"
     ]
    },
    {
     "name": "stdout",
     "output_type": "stream",
     "text": [
      "Priest Lauderdale Stats: NBA Career\n"
     ]
    },
    {
     "name": "stderr",
     "output_type": "stream",
     "text": [
      "2024-06-22 01:51:53,726 | INFO | _client.py:1027 | _send_single_request | HTTP Request: POST https://api.openai.com/v1/chat/completions \"HTTP/1.1 200 OK\"\n"
     ]
    },
    {
     "name": "stdout",
     "output_type": "stream",
     "text": [
      "Chris Wilcox Stats: NBA Career\n"
     ]
    },
    {
     "name": "stderr",
     "output_type": "stream",
     "text": [
      "2024-06-22 01:51:58,248 | INFO | _client.py:1027 | _send_single_request | HTTP Request: POST https://api.openai.com/v1/chat/completions \"HTTP/1.1 200 OK\"\n"
     ]
    },
    {
     "name": "stdout",
     "output_type": "stream",
     "text": [
      "Antoine Walker Stats: NBA Career\n"
     ]
    },
    {
     "name": "stderr",
     "output_type": "stream",
     "text": [
      "2024-06-22 01:52:01,838 | INFO | _client.py:1027 | _send_single_request | HTTP Request: POST https://api.openai.com/v1/chat/completions \"HTTP/1.1 200 OK\"\n"
     ]
    },
    {
     "name": "stdout",
     "output_type": "stream",
     "text": [
      "Luke Ridnour Stats: NBA Career\n"
     ]
    },
    {
     "name": "stderr",
     "output_type": "stream",
     "text": [
      "2024-06-22 01:52:06,035 | INFO | _client.py:1027 | _send_single_request | HTTP Request: POST https://api.openai.com/v1/chat/completions \"HTTP/1.1 200 OK\"\n"
     ]
    },
    {
     "name": "stdout",
     "output_type": "stream",
     "text": [
      "Tom Hovasse Stats: NBA Career\n"
     ]
    },
    {
     "name": "stderr",
     "output_type": "stream",
     "text": [
      "2024-06-22 01:52:09,456 | INFO | _client.py:1027 | _send_single_request | HTTP Request: POST https://api.openai.com/v1/chat/completions \"HTTP/1.1 200 OK\"\n"
     ]
    },
    {
     "name": "stdout",
     "output_type": "stream",
     "text": [
      "Don Buse Stats: NBA Career\n"
     ]
    },
    {
     "name": "stderr",
     "output_type": "stream",
     "text": [
      "2024-06-22 01:52:13,116 | INFO | _client.py:1027 | _send_single_request | HTTP Request: POST https://api.openai.com/v1/chat/completions \"HTTP/1.1 200 OK\"\n"
     ]
    },
    {
     "name": "stdout",
     "output_type": "stream",
     "text": [
      "Marcus Thornton Stats: NBA Career\n"
     ]
    },
    {
     "name": "stderr",
     "output_type": "stream",
     "text": [
      "2024-06-22 01:52:17,212 | INFO | _client.py:1027 | _send_single_request | HTTP Request: POST https://api.openai.com/v1/chat/completions \"HTTP/1.1 200 OK\"\n"
     ]
    },
    {
     "name": "stdout",
     "output_type": "stream",
     "text": [
      "Ron Bonham Stats: NBA Career\n"
     ]
    },
    {
     "name": "stderr",
     "output_type": "stream",
     "text": [
      "2024-06-22 01:52:21,270 | INFO | _client.py:1027 | _send_single_request | HTTP Request: POST https://api.openai.com/v1/chat/completions \"HTTP/1.1 200 OK\"\n"
     ]
    },
    {
     "name": "stdout",
     "output_type": "stream",
     "text": [
      "Dragan Tarlac Stats: NBA Career\n"
     ]
    },
    {
     "name": "stderr",
     "output_type": "stream",
     "text": [
      "2024-06-22 01:52:25,167 | INFO | _client.py:1027 | _send_single_request | HTTP Request: POST https://api.openai.com/v1/chat/completions \"HTTP/1.1 200 OK\"\n"
     ]
    },
    {
     "name": "stdout",
     "output_type": "stream",
     "text": [
      "Brandin Knight Stats: NBA Career\n"
     ]
    },
    {
     "name": "stderr",
     "output_type": "stream",
     "text": [
      "2024-06-22 01:52:30,062 | INFO | _client.py:1027 | _send_single_request | HTTP Request: POST https://api.openai.com/v1/chat/completions \"HTTP/1.1 200 OK\"\n"
     ]
    },
    {
     "name": "stdout",
     "output_type": "stream",
     "text": [
      "Jeff Sanders Stats: NBA Career\n"
     ]
    },
    {
     "name": "stderr",
     "output_type": "stream",
     "text": [
      "2024-06-22 01:52:33,778 | INFO | _client.py:1027 | _send_single_request | HTTP Request: POST https://api.openai.com/v1/chat/completions \"HTTP/1.1 200 OK\"\n"
     ]
    },
    {
     "name": "stdout",
     "output_type": "stream",
     "text": [
      "Al Jackson Stats: NBA Career\n"
     ]
    },
    {
     "name": "stderr",
     "output_type": "stream",
     "text": [
      "2024-06-22 01:52:37,773 | INFO | _client.py:1027 | _send_single_request | HTTP Request: POST https://api.openai.com/v1/chat/completions \"HTTP/1.1 200 OK\"\n"
     ]
    },
    {
     "name": "stdout",
     "output_type": "stream",
     "text": [
      "Jack Rocker Stats: NBA Career\n"
     ]
    },
    {
     "name": "stderr",
     "output_type": "stream",
     "text": [
      "2024-06-22 01:52:42,203 | INFO | _client.py:1027 | _send_single_request | HTTP Request: POST https://api.openai.com/v1/chat/completions \"HTTP/1.1 200 OK\"\n"
     ]
    },
    {
     "name": "stdout",
     "output_type": "stream",
     "text": [
      "Don Hanrahan Stats: NBA Career\n"
     ]
    },
    {
     "name": "stderr",
     "output_type": "stream",
     "text": [
      "2024-06-22 01:52:46,373 | INFO | _client.py:1027 | _send_single_request | HTTP Request: POST https://api.openai.com/v1/chat/completions \"HTTP/1.1 200 OK\"\n"
     ]
    },
    {
     "name": "stdout",
     "output_type": "stream",
     "text": [
      "Zylan Cheatham Stats: NBA Career\n"
     ]
    },
    {
     "name": "stderr",
     "output_type": "stream",
     "text": [
      "2024-06-22 01:52:50,248 | INFO | _client.py:1027 | _send_single_request | HTTP Request: POST https://api.openai.com/v1/chat/completions \"HTTP/1.1 200 OK\"\n"
     ]
    }
   ],
   "source": [
    "responses = []\n",
    "\n",
    "for url, h1, description in crawldf[['url', 'h1', 'player_description']].values:\n",
    "    print(h1)\n",
    "    completion = client.chat.completions.create(\n",
    "        model=\"gpt-4o\",\n",
    "        temperature=0,\n",
    "        seed=123,\n",
    "        messages=[\n",
    "            {\"role\": \"system\", \"content\": \"You are a helpful assistant.\"},\n",
    "            {\"role\": \"user\", \"content\": f\"\"\"\n",
    "Please answer the following questions about this article and its title.\n",
    "Respond in JSON where questions are keys and answers are values.\n",
    "Answers should be boolean only.\n",
    "\n",
    "article_title: {h1}\n",
    "\n",
    "aritcle_text: {description.replace('@@', ' ')}\n",
    "\n",
    "\n",
    "questions: {content_guidelines.head(12)['question'].tolist()}\n",
    "\n",
    "\"\"\"}\n",
    "        ])\n",
    "    responses.append((url, h1, completion))\n"
   ]
  },
  {
   "cell_type": "code",
   "execution_count": 75,
   "id": "694acac5-88ef-4626-b902-09fc6bf4050a",
   "metadata": {
    "execution": {
     "iopub.execute_input": "2024-06-21T22:55:07.810716Z",
     "iopub.status.busy": "2024-06-21T22:55:07.810220Z",
     "iopub.status.idle": "2024-06-21T22:55:07.857105Z",
     "shell.execute_reply": "2024-06-21T22:55:07.856019Z",
     "shell.execute_reply.started": "2024-06-21T22:55:07.810677Z"
    }
   },
   "outputs": [],
   "source": [
    "response_dfs = []\n",
    "for url, h1, response in responses:\n",
    "    df = pd.DataFrame(json.loads(response.dict()['choices'][0]['message']['content'][7:-3]).items())\n",
    "    df['title'] = h1\n",
    "    df['url'] = url\n",
    "    response_dfs.append(df)"
   ]
  },
  {
   "cell_type": "code",
   "execution_count": 76,
   "id": "88dbc39f-2690-44ec-86a6-7ab5a16b13ba",
   "metadata": {
    "execution": {
     "iopub.execute_input": "2024-06-21T22:55:08.584810Z",
     "iopub.status.busy": "2024-06-21T22:55:08.584478Z",
     "iopub.status.idle": "2024-06-21T22:55:08.598104Z",
     "shell.execute_reply": "2024-06-21T22:55:08.597322Z",
     "shell.execute_reply.started": "2024-06-21T22:55:08.584779Z"
    }
   },
   "outputs": [
    {
     "data": {
      "text/html": [
       "<div>\n",
       "<style scoped>\n",
       "    .dataframe tbody tr th:only-of-type {\n",
       "        vertical-align: middle;\n",
       "    }\n",
       "\n",
       "    .dataframe tbody tr th {\n",
       "        vertical-align: top;\n",
       "    }\n",
       "\n",
       "    .dataframe thead th {\n",
       "        text-align: right;\n",
       "    }\n",
       "</style>\n",
       "<table border=\"1\" class=\"dataframe\">\n",
       "  <thead>\n",
       "    <tr style=\"text-align: right;\">\n",
       "      <th></th>\n",
       "      <th>question</th>\n",
       "      <th>answer</th>\n",
       "      <th>title</th>\n",
       "      <th>url</th>\n",
       "    </tr>\n",
       "  </thead>\n",
       "  <tbody>\n",
       "    <tr>\n",
       "      <th>0</th>\n",
       "      <td>Does the content provide original information,...</td>\n",
       "      <td>True</td>\n",
       "      <td>John Niemiera Stats: NBA Career</td>\n",
       "      <td>https://nbastats.pro/player/John_Niemiera</td>\n",
       "    </tr>\n",
       "    <tr>\n",
       "      <th>1</th>\n",
       "      <td>Does the content provide a substantial, comple...</td>\n",
       "      <td>True</td>\n",
       "      <td>John Niemiera Stats: NBA Career</td>\n",
       "      <td>https://nbastats.pro/player/John_Niemiera</td>\n",
       "    </tr>\n",
       "    <tr>\n",
       "      <th>2</th>\n",
       "      <td>Does the content provide insightful analysis o...</td>\n",
       "      <td>True</td>\n",
       "      <td>John Niemiera Stats: NBA Career</td>\n",
       "      <td>https://nbastats.pro/player/John_Niemiera</td>\n",
       "    </tr>\n",
       "    <tr>\n",
       "      <th>3</th>\n",
       "      <td>If the content draws on other sources, does it...</td>\n",
       "      <td>True</td>\n",
       "      <td>John Niemiera Stats: NBA Career</td>\n",
       "      <td>https://nbastats.pro/player/John_Niemiera</td>\n",
       "    </tr>\n",
       "    <tr>\n",
       "      <th>4</th>\n",
       "      <td>Does the main heading or page title provide a ...</td>\n",
       "      <td>True</td>\n",
       "      <td>John Niemiera Stats: NBA Career</td>\n",
       "      <td>https://nbastats.pro/player/John_Niemiera</td>\n",
       "    </tr>\n",
       "    <tr>\n",
       "      <th>...</th>\n",
       "      <td>...</td>\n",
       "      <td>...</td>\n",
       "      <td>...</td>\n",
       "      <td>...</td>\n",
       "    </tr>\n",
       "    <tr>\n",
       "      <th>595</th>\n",
       "      <td>Would you expect to see this content in or ref...</td>\n",
       "      <td>True</td>\n",
       "      <td>Zylan Cheatham Stats: NBA Career</td>\n",
       "      <td>https://nbastats.pro/player/Zylan_Cheatham</td>\n",
       "    </tr>\n",
       "    <tr>\n",
       "      <th>596</th>\n",
       "      <td>Does the content provide substantial value whe...</td>\n",
       "      <td>True</td>\n",
       "      <td>Zylan Cheatham Stats: NBA Career</td>\n",
       "      <td>https://nbastats.pro/player/Zylan_Cheatham</td>\n",
       "    </tr>\n",
       "    <tr>\n",
       "      <th>597</th>\n",
       "      <td>Does the content have any spelling or stylisti...</td>\n",
       "      <td>True</td>\n",
       "      <td>Zylan Cheatham Stats: NBA Career</td>\n",
       "      <td>https://nbastats.pro/player/Zylan_Cheatham</td>\n",
       "    </tr>\n",
       "    <tr>\n",
       "      <th>598</th>\n",
       "      <td>Is the content produced well, or does it appea...</td>\n",
       "      <td>False</td>\n",
       "      <td>Zylan Cheatham Stats: NBA Career</td>\n",
       "      <td>https://nbastats.pro/player/Zylan_Cheatham</td>\n",
       "    </tr>\n",
       "    <tr>\n",
       "      <th>599</th>\n",
       "      <td>Is the content mass-produced by or outsourced ...</td>\n",
       "      <td>False</td>\n",
       "      <td>Zylan Cheatham Stats: NBA Career</td>\n",
       "      <td>https://nbastats.pro/player/Zylan_Cheatham</td>\n",
       "    </tr>\n",
       "  </tbody>\n",
       "</table>\n",
       "<p>600 rows × 4 columns</p>\n",
       "</div>"
      ],
      "text/plain": [
       "                                              question  answer  \\\n",
       "0    Does the content provide original information,...    True   \n",
       "1    Does the content provide a substantial, comple...    True   \n",
       "2    Does the content provide insightful analysis o...    True   \n",
       "3    If the content draws on other sources, does it...    True   \n",
       "4    Does the main heading or page title provide a ...    True   \n",
       "..                                                 ...     ...   \n",
       "595  Would you expect to see this content in or ref...    True   \n",
       "596  Does the content provide substantial value whe...    True   \n",
       "597  Does the content have any spelling or stylisti...    True   \n",
       "598  Is the content produced well, or does it appea...   False   \n",
       "599  Is the content mass-produced by or outsourced ...   False   \n",
       "\n",
       "                                title  \\\n",
       "0     John Niemiera Stats: NBA Career   \n",
       "1     John Niemiera Stats: NBA Career   \n",
       "2     John Niemiera Stats: NBA Career   \n",
       "3     John Niemiera Stats: NBA Career   \n",
       "4     John Niemiera Stats: NBA Career   \n",
       "..                                ...   \n",
       "595  Zylan Cheatham Stats: NBA Career   \n",
       "596  Zylan Cheatham Stats: NBA Career   \n",
       "597  Zylan Cheatham Stats: NBA Career   \n",
       "598  Zylan Cheatham Stats: NBA Career   \n",
       "599  Zylan Cheatham Stats: NBA Career   \n",
       "\n",
       "                                            url  \n",
       "0     https://nbastats.pro/player/John_Niemiera  \n",
       "1     https://nbastats.pro/player/John_Niemiera  \n",
       "2     https://nbastats.pro/player/John_Niemiera  \n",
       "3     https://nbastats.pro/player/John_Niemiera  \n",
       "4     https://nbastats.pro/player/John_Niemiera  \n",
       "..                                          ...  \n",
       "595  https://nbastats.pro/player/Zylan_Cheatham  \n",
       "596  https://nbastats.pro/player/Zylan_Cheatham  \n",
       "597  https://nbastats.pro/player/Zylan_Cheatham  \n",
       "598  https://nbastats.pro/player/Zylan_Cheatham  \n",
       "599  https://nbastats.pro/player/Zylan_Cheatham  \n",
       "\n",
       "[600 rows x 4 columns]"
      ]
     },
     "execution_count": 76,
     "metadata": {},
     "output_type": "execute_result"
    }
   ],
   "source": [
    "evaluation = pd.concat(response_dfs,ignore_index=True).rename(columns={0: 'question', 1: 'answer'})\n",
    "evaluation"
   ]
  },
  {
   "cell_type": "code",
   "execution_count": 103,
   "id": "4f3cc833-88a5-43fa-bad4-65dd05034b58",
   "metadata": {
    "execution": {
     "iopub.execute_input": "2024-06-22T00:06:08.449848Z",
     "iopub.status.busy": "2024-06-22T00:06:08.449482Z",
     "iopub.status.idle": "2024-06-22T00:06:08.458120Z",
     "shell.execute_reply": "2024-06-22T00:06:08.457338Z",
     "shell.execute_reply.started": "2024-06-22T00:06:08.449812Z"
    }
   },
   "outputs": [],
   "source": [
    "evaluation.to_csv('evaluation.csv', index=False)"
   ]
  },
  {
   "cell_type": "code",
   "execution_count": 96,
   "id": "65a4c367-c8cc-473d-a5c8-021335305961",
   "metadata": {
    "execution": {
     "iopub.execute_input": "2024-06-21T23:04:28.676640Z",
     "iopub.status.busy": "2024-06-21T23:04:28.676311Z",
     "iopub.status.idle": "2024-06-21T23:04:28.687232Z",
     "shell.execute_reply": "2024-06-21T23:04:28.686406Z",
     "shell.execute_reply.started": "2024-06-21T23:04:28.676609Z"
    }
   },
   "outputs": [
    {
     "data": {
      "text/html": [
       "<style type=\"text/css\">\n",
       "#T_0f278_row0_col1, #T_0f278_row2_col1 {\n",
       "  width: 10em;\n",
       "  background: linear-gradient(90deg, lightgray 54.0%, transparent 54.0%);\n",
       "}\n",
       "#T_0f278_row1_col1 {\n",
       "  width: 10em;\n",
       "  background: linear-gradient(90deg, lightgray 84.0%, transparent 84.0%);\n",
       "}\n",
       "#T_0f278_row3_col1, #T_0f278_row7_col1 {\n",
       "  width: 10em;\n",
       "  background: linear-gradient(90deg, lightgray 52.0%, transparent 52.0%);\n",
       "}\n",
       "#T_0f278_row4_col1, #T_0f278_row10_col1, #T_0f278_row11_col1 {\n",
       "  width: 10em;\n",
       "  background: linear-gradient(90deg, lightgray 48.0%, transparent 48.0%);\n",
       "}\n",
       "#T_0f278_row5_col1, #T_0f278_row6_col1 {\n",
       "  width: 10em;\n",
       "  background: linear-gradient(90deg, lightgray 100.0%, transparent 100.0%);\n",
       "}\n",
       "#T_0f278_row8_col1 {\n",
       "  width: 10em;\n",
       "}\n",
       "#T_0f278_row9_col1 {\n",
       "  width: 10em;\n",
       "  background: linear-gradient(90deg, lightgray 26.0%, transparent 26.0%);\n",
       "}\n",
       "</style>\n",
       "<table id=\"T_0f278\">\n",
       "  <thead>\n",
       "    <tr>\n",
       "      <th class=\"blank level0\" >&nbsp;</th>\n",
       "      <th id=\"T_0f278_level0_col0\" class=\"col_heading level0 col0\" >question</th>\n",
       "      <th id=\"T_0f278_level0_col1\" class=\"col_heading level0 col1\" >answer</th>\n",
       "    </tr>\n",
       "  </thead>\n",
       "  <tbody>\n",
       "    <tr>\n",
       "      <th id=\"T_0f278_level0_row0\" class=\"row_heading level0 row0\" >0</th>\n",
       "      <td id=\"T_0f278_row0_col0\" class=\"data row0 col0\" >Does the content have any spelling or stylistic issues?</td>\n",
       "      <td id=\"T_0f278_row0_col1\" class=\"data row0 col1\" >54%</td>\n",
       "    </tr>\n",
       "    <tr>\n",
       "      <th id=\"T_0f278_level0_row1\" class=\"row_heading level0 row1\" >1</th>\n",
       "      <td id=\"T_0f278_row1_col0\" class=\"data row1 col0\" >Does the content provide a substantial, complete, or comprehensive description of the topic?</td>\n",
       "      <td id=\"T_0f278_row1_col1\" class=\"data row1 col1\" >84%</td>\n",
       "    </tr>\n",
       "    <tr>\n",
       "      <th id=\"T_0f278_level0_row2\" class=\"row_heading level0 row2\" >2</th>\n",
       "      <td id=\"T_0f278_row2_col0\" class=\"data row2 col0\" >Does the content provide insightful analysis or interesting information that is beyond the obvious?</td>\n",
       "      <td id=\"T_0f278_row2_col1\" class=\"data row2 col1\" >54%</td>\n",
       "    </tr>\n",
       "    <tr>\n",
       "      <th id=\"T_0f278_level0_row3\" class=\"row_heading level0 row3\" >3</th>\n",
       "      <td id=\"T_0f278_row3_col0\" class=\"data row3 col0\" >Does the content provide original information, reporting, research, or analysis?</td>\n",
       "      <td id=\"T_0f278_row3_col1\" class=\"data row3 col1\" >52%</td>\n",
       "    </tr>\n",
       "    <tr>\n",
       "      <th id=\"T_0f278_level0_row4\" class=\"row_heading level0 row4\" >4</th>\n",
       "      <td id=\"T_0f278_row4_col0\" class=\"data row4 col0\" >Does the content provide substantial value when compared to other pages in search results?</td>\n",
       "      <td id=\"T_0f278_row4_col1\" class=\"data row4 col1\" >48%</td>\n",
       "    </tr>\n",
       "    <tr>\n",
       "      <th id=\"T_0f278_level0_row5\" class=\"row_heading level0 row5\" >5</th>\n",
       "      <td id=\"T_0f278_row5_col0\" class=\"data row5 col0\" >Does the main heading or page title avoid exaggerating or being shocking in nature?</td>\n",
       "      <td id=\"T_0f278_row5_col1\" class=\"data row5 col1\" >100%</td>\n",
       "    </tr>\n",
       "    <tr>\n",
       "      <th id=\"T_0f278_level0_row6\" class=\"row_heading level0 row6\" >6</th>\n",
       "      <td id=\"T_0f278_row6_col0\" class=\"data row6 col0\" >Does the main heading or page title provide a descriptive, helpful summary of the content?</td>\n",
       "      <td id=\"T_0f278_row6_col1\" class=\"data row6 col1\" >100%</td>\n",
       "    </tr>\n",
       "    <tr>\n",
       "      <th id=\"T_0f278_level0_row7\" class=\"row_heading level0 row7\" >7</th>\n",
       "      <td id=\"T_0f278_row7_col0\" class=\"data row7 col0\" >If the content draws on other sources, does it avoid simply copying or rewriting those sources, and instead provide substantial additional value and originality?</td>\n",
       "      <td id=\"T_0f278_row7_col1\" class=\"data row7 col1\" >52%</td>\n",
       "    </tr>\n",
       "    <tr>\n",
       "      <th id=\"T_0f278_level0_row8\" class=\"row_heading level0 row8\" >8</th>\n",
       "      <td id=\"T_0f278_row8_col0\" class=\"data row8 col0\" >Is the content mass-produced by or outsourced to a large number of creators, or spread across a large network of sites, so that individual pages or sites don't get as much attention or care?</td>\n",
       "      <td id=\"T_0f278_row8_col1\" class=\"data row8 col1\" >0%</td>\n",
       "    </tr>\n",
       "    <tr>\n",
       "      <th id=\"T_0f278_level0_row9\" class=\"row_heading level0 row9\" >9</th>\n",
       "      <td id=\"T_0f278_row9_col0\" class=\"data row9 col0\" >Is the content produced well, or does it appear sloppy or hastily produced?</td>\n",
       "      <td id=\"T_0f278_row9_col1\" class=\"data row9 col1\" >26%</td>\n",
       "    </tr>\n",
       "    <tr>\n",
       "      <th id=\"T_0f278_level0_row10\" class=\"row_heading level0 row10\" >10</th>\n",
       "      <td id=\"T_0f278_row10_col0\" class=\"data row10 col0\" >Is this the sort of page you'd want to bookmark, share with a friend, or recommend?</td>\n",
       "      <td id=\"T_0f278_row10_col1\" class=\"data row10 col1\" >48%</td>\n",
       "    </tr>\n",
       "    <tr>\n",
       "      <th id=\"T_0f278_level0_row11\" class=\"row_heading level0 row11\" >11</th>\n",
       "      <td id=\"T_0f278_row11_col0\" class=\"data row11 col0\" >Would you expect to see this content in or referenced by a printed magazine, encyclopedia, or book?</td>\n",
       "      <td id=\"T_0f278_row11_col1\" class=\"data row11 col1\" >48%</td>\n",
       "    </tr>\n",
       "  </tbody>\n",
       "</table>\n"
      ],
      "text/plain": [
       "<pandas.io.formats.style.Styler at 0x12f01f500>"
      ]
     },
     "execution_count": 96,
     "metadata": {},
     "output_type": "execute_result"
    }
   ],
   "source": [
    "(evaluation\n",
    " .groupby(['question'])\n",
    " ['answer']\n",
    " .mean()\n",
    " .reset_index()\n",
    " .style\n",
    " .format({'answer': '{:.0%}'})\n",
    " .bar(subset=['answer'], color='lightgray'))"
   ]
  }
 ],
 "metadata": {
  "kernelspec": {
   "display_name": "Python 3 (ipykernel)",
   "language": "python",
   "name": "python3"
  },
  "language_info": {
   "codemirror_mode": {
    "name": "ipython",
    "version": 3
   },
   "file_extension": ".py",
   "mimetype": "text/x-python",
   "name": "python",
   "nbconvert_exporter": "python",
   "pygments_lexer": "ipython3",
   "version": "3.12.2"
  },
  "widgets": {
   "application/vnd.jupyter.widget-state+json": {
    "state": {},
    "version_major": 2,
    "version_minor": 0
   }
  }
 },
 "nbformat": 4,
 "nbformat_minor": 5
}
